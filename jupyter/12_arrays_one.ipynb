{
 "cells": [
  {
   "cell_type": "markdown",
   "metadata": {},
   "source": [
    "# Arrays Part 1\n",
    "\n",
    "In Task 15 (Charity Collection) you probably used three variables for the different amounts of money raised.  \n",
    "*Run the following code to refresh your memory*"
   ]
  },
  {
   "cell_type": "code",
   "execution_count": null,
   "metadata": {
    "collapsed": false
   },
   "outputs": [],
   "source": [
    "amount1=int(input(\"Please enter amount 1:\"))\n",
    "amount2=int(input(\"Please enter amount 2:\"))\n",
    "amount3=int(input(\"Please enter amount 3:\"))\n",
    "\n",
    "total = amount1 + amount2 + amount3\n",
    "print(\"The total raised is\", total)"
   ]
  },
  {
   "cell_type": "markdown",
   "metadata": {},
   "source": [
    "In task 16 (Calculate the Area of a Rectangle Part 2) you probably used different variables for the two rectangles.  \n",
    "*Run the following code to refresh your memory*"
   ]
  },
  {
   "cell_type": "code",
   "execution_count": null,
   "metadata": {
    "collapsed": false
   },
   "outputs": [],
   "source": [
    "length1=int(input(\"Please enter length 1:\"))\n",
    "width1 =int(input(\"Please enter width  1:\"))\n",
    "\n",
    "length2=int(input(\"Please enter length 2:\"))\n",
    "width2 =int(input(\"Please enter width  2:\"))\n",
    "\n",
    "area1 = length1 * width1\n",
    "area2 = length2 * width2\n",
    "\n",
    "print(\"Area 1 is\", area1)\n",
    "print(\"Area 2 is\", area2)"
   ]
  },
  {
   "cell_type": "markdown",
   "metadata": {},
   "source": [
    "This is fine for programs that only need to process a small number of values, but becomes unwieldy with lots of values:\n",
    "```python3\n",
    "amount1=int(input(\"Please enter amount 1:\"))\n",
    "amount2=int(input(\"Please enter amount 2:\"))\n",
    "...\n",
    "amount50=int(input(\"Please enter amount 50:\"))\n",
    "\n",
    "total = amount1 + amount2 + ... + amount50\n",
    "```\n",
    "\n",
    "If you had to write a program to accept 50 inputs like this, you would become quite frustrated. Surely there must be a better way?\n",
    "\n",
    "*Of course there is*. We can now introduce the idea of **arrays** which can be used efficiently instead of lots of separate variables. (Arrays in the Python language are technically called **lists**)."
   ]
  },
  {
   "cell_type": "markdown",
   "metadata": {},
   "source": [
    "## Arrays\n",
    "Instead of lots of separate variables, arrays can be used instead.  \n",
    "An array is a list of values:\n",
    "```python3\n",
    "names = [\"Fred\",\"Anna\",...,\"Mary\"]\t\t#an array of strings\n",
    "tests = [45,34,...65]\t\t\t\t\t#an array of integers\n",
    "```\n",
    "Each vaue can be accessed by its index number, which always starts counting from 0:\n",
    "\n",
    "|index|0|1|...|9|  \n",
    "|-|-|-|-|-|\n",
    "|names|\"Fred\"|\"Anna\"|...|\"Mary\"|  \n",
    "|tests|45|34|...|65|  \n",
    "\n",
    "```python3\n",
    "    names[0] #contains \"Fred\"\n",
    "    names[1] #contains \"Anna\"\n",
    "```\n",
    "...etc.\n",
    "\n",
    "Arrays can usually used with loops to display and process all the data:\n",
    "```python3\n",
    "        for pupil in range(10):\t\t#for each pupil from 0 to 9\n",
    "        print(names[pupil])\t\t\t#print the name of that pupil\n",
    "\n",
    "    total = 0\n",
    "    for pupil in range(10):\t\t\t    #for each pupil from 0 to 9\n",
    "        total = total + tests[pupil]\t#add that pupil’s mark to the total\n",
    "    average = total / 10\n",
    "```\n",
    "\n",
    "Strings are actually arrays of characters:\n",
    "\n",
    "|name=\"fred\"|index|0|1|2|3|\n",
    "|-|-|-|-|-|-|\n",
    "| |char|f|r|e|d|\n"
   ]
  },
  {
   "cell_type": "markdown",
   "metadata": {},
   "source": [
    "## Variable Names\n",
    "To avoid confusion when writing programs, use singular and plurals when you name variables:\n",
    "\n",
    "variable name|one or many?|example\n",
    "---|---|---\n",
    "name|a single name|eg: name = \"fred\"  \n",
    "age|a single age|eg: age = 14  \n",
    "names|an array of names|eg: names[4] = \"sue\"  \n",
    "ages|an array of lengths|eg: ages[4] = 15  \n",
    "\n",
    "This makes is easier to remember whether a variable holds a single value or a list of values."
   ]
  },
  {
   "cell_type": "markdown",
   "metadata": {},
   "source": [
    "## Arrays in Python\n",
    "\n",
    "*Please **Run the following code**. You can change the names, genders and marks if you want, but be very careful with all the quotes and brackes*"
   ]
  },
  {
   "cell_type": "code",
   "execution_count": 29,
   "metadata": {
    "collapsed": false
   },
   "outputs": [
    {
     "name": "stdout",
     "output_type": "stream",
     "text": [
      "['Fred', 'Sue', 'Alan', 'Mark', 'Fiona', 'Ian', 'Edward', 'Ruby', 'Sean', 'Sarah']\n",
      "['M', 'F', 'M', 'M', 'F', 'M', 'M', 'F', 'M', 'F']\n",
      "[23, 54, 23, 76, 36, 35, 86, 25, 56, 87]\n"
     ]
    }
   ],
   "source": [
    "# Working with Lists\n",
    "# P Thoresen\n",
    "# December 2013\n",
    "\n",
    "names = [\"Fred\", \"Sue\", \"Alan\", \"Mark\", \"Fiona\", \"Ian\", \"Edward\", \"Ruby\", \"Sean\", \"Sarah\"]\n",
    "genders = [\"M\", \"F\", \"M\", \"M\",\"F\", \"M\", \"M\", \"F\", \"M\", \"F\"]\n",
    "marks = [23, 54, 23, 76, 36, 35, 86, 25, 56, 87]\n",
    "print(names, genders, marks, sep='\\n')  #Just to show the arrays are set up properly"
   ]
  },
  {
   "cell_type": "markdown",
   "metadata": {},
   "source": [
    "*Next, run each of the following lines of code in turn **and examine the output carefully**.  \n",
    "You should be able to either predict or understand the output produced.*"
   ]
  },
  {
   "cell_type": "code",
   "execution_count": null,
   "metadata": {
    "collapsed": false
   },
   "outputs": [],
   "source": [
    "print(names[0], marks[0])"
   ]
  },
  {
   "cell_type": "code",
   "execution_count": null,
   "metadata": {
    "collapsed": false
   },
   "outputs": [],
   "source": [
    "print(name[1],marks[1])"
   ]
  },
  {
   "cell_type": "code",
   "execution_count": null,
   "metadata": {
    "collapsed": false
   },
   "outputs": [],
   "source": [
    "print(len(names))"
   ]
  },
  {
   "cell_type": "code",
   "execution_count": null,
   "metadata": {
    "collapsed": false
   },
   "outputs": [],
   "source": [
    "for pupil in range(10):\n",
    "    print(pupil)  "
   ]
  },
  {
   "cell_type": "code",
   "execution_count": null,
   "metadata": {
    "collapsed": false
   },
   "outputs": [],
   "source": [
    "for pupil in range(len(names)):\n",
    "    print(pupil)"
   ]
  },
  {
   "cell_type": "code",
   "execution_count": null,
   "metadata": {
    "collapsed": false
   },
   "outputs": [],
   "source": [
    "for pupil in range(10):\n",
    "    print(names[pupil],marks[pupil], sep=': ')"
   ]
  },
  {
   "cell_type": "code",
   "execution_count": null,
   "metadata": {
    "collapsed": false
   },
   "outputs": [],
   "source": [
    "for pupil in range(10):\n",
    "    if genders[pupil]==\"M\":\n",
    "        print(names[pupil], \"is a boy\")\n",
    "    else:\n",
    "        print(names[pupil], \"is a girl\")"
   ]
  },
  {
   "cell_type": "markdown",
   "metadata": {},
   "source": [
    "## Exercise\n",
    "5 empty cells are provided below. In each cell, write, and test, commands to:\n",
    "1. List each pupil’s name, gender and test mark:\n",
    "2. List the names and marks of each pupil, and if they have passed (50 marks or more) or failed:\n",
    "3. List the names and marks of all the boys who have passed:\n",
    "4. Count how many boys are in the class:\n",
    "5. Count how many boys scored 50 or more:"
   ]
  },
  {
   "cell_type": "code",
   "execution_count": 30,
   "metadata": {
    "collapsed": true
   },
   "outputs": [],
   "source": [
    "#List each pupil’s name, gender and test mark:"
   ]
  },
  {
   "cell_type": "code",
   "execution_count": 31,
   "metadata": {
    "collapsed": true
   },
   "outputs": [],
   "source": [
    "#List the names and marks of each pupil, and if they have passed (50 marks or more) or failed:"
   ]
  },
  {
   "cell_type": "code",
   "execution_count": 32,
   "metadata": {
    "collapsed": true
   },
   "outputs": [],
   "source": [
    "#List the names and marks of all the boys who have passed:"
   ]
  },
  {
   "cell_type": "code",
   "execution_count": 33,
   "metadata": {
    "collapsed": true
   },
   "outputs": [],
   "source": [
    "#Count how many boys are in the class:"
   ]
  },
  {
   "cell_type": "code",
   "execution_count": 35,
   "metadata": {
    "collapsed": true
   },
   "outputs": [],
   "source": [
    "#Count how many boys scored 50 or more:"
   ]
  },
  {
   "cell_type": "markdown",
   "metadata": {},
   "source": [
    "## Formatted Output (Tables)\n",
    "Your programs from above should be displaying the correct results, but the output might be untidy:  "
   ]
  },
  {
   "cell_type": "code",
   "execution_count": 36,
   "metadata": {
    "collapsed": false
   },
   "outputs": [
    {
     "name": "stdout",
     "output_type": "stream",
     "text": [
      "Fred 23\n",
      "Sue 54\n",
      "Alan 23\n",
      "Mark 76\n",
      "Fiona 36\n",
      "Ian 35\n",
      "Edward 86\n",
      "Ruby 25\n",
      "Sean 56\n",
      "Sarah 87\n"
     ]
    }
   ],
   "source": [
    "for pupil in range(10):\n",
    "    print(names[pupil],marks[pupil])"
   ]
  },
  {
   "cell_type": "markdown",
   "metadata": {},
   "source": [
    "These data can be displayed neatly using the format() function.  \n",
    "You have already used the format() function to display numbers to two decimal points.  \n",
    "The longest name is Edward – 6 characters. If all the names are printed out with 8 characters, and all the numbers with 2 characters, then the result will be a table with text left aligned and numbers right-aligned."
   ]
  },
  {
   "cell_type": "code",
   "execution_count": 38,
   "metadata": {
    "collapsed": false
   },
   "outputs": [
    {
     "name": "stdout",
     "output_type": "stream",
     "text": [
      "Fred      23\n",
      "Sue       54\n",
      "Alan      23\n",
      "Mark      76\n",
      "Fiona     36\n",
      "Ian       35\n",
      "Edward    86\n",
      "Ruby      25\n",
      "Sean      56\n",
      "Sarah     87\n"
     ]
    }
   ],
   "source": [
    "for pupil in range(10):\n",
    "    nicename = format(names[pupil], '10') #format pupil name\n",
    "    nicemark = format(marks[pupil], '2')  #format pupil mark\n",
    "    print(nicename + nicemark)            #print formatted data"
   ]
  },
  {
   "cell_type": "markdown",
   "metadata": {},
   "source": [
    "**Or more compactly:**"
   ]
  },
  {
   "cell_type": "code",
   "execution_count": 41,
   "metadata": {
    "collapsed": false
   },
   "outputs": [
    {
     "name": "stdout",
     "output_type": "stream",
     "text": [
      "Fred      23\n",
      "Sue       54\n",
      "Alan      23\n",
      "Mark      76\n",
      "Fiona     36\n",
      "Ian       35\n",
      "Edward    86\n",
      "Ruby      25\n",
      "Sean      56\n",
      "Sarah     87\n"
     ]
    }
   ],
   "source": [
    "for pupil in range(10):\n",
    "    print(format(names[pupil], '10') + format(marks[pupil],'2'))"
   ]
  },
  {
   "cell_type": "markdown",
   "metadata": {},
   "source": [
    "**You can now complete tasks 39 and 40.**"
   ]
  },
  {
   "cell_type": "markdown",
   "metadata": {},
   "source": [
    "Print this browser page in the usual way for your file."
   ]
  }
 ],
 "metadata": {
  "kernelspec": {
   "display_name": "Python 3",
   "language": "python",
   "name": "python3"
  },
  "language_info": {
   "codemirror_mode": {
    "name": "ipython",
    "version": 3
   },
   "file_extension": ".py",
   "mimetype": "text/x-python",
   "name": "python",
   "nbconvert_exporter": "python",
   "pygments_lexer": "ipython3",
   "version": "3.4.3"
  }
 },
 "nbformat": 4,
 "nbformat_minor": 0
}

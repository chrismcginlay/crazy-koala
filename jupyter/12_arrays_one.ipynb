{
 "cells": [
  {
   "cell_type": "markdown",
   "metadata": {},
   "source": [
    "# Arrays Part 1\n",
    "\n",
    "In Task 15 (Charity Collection) you probably used three variables for the different amounts of money raised.  \n",
    "*Run the following code to refresh your memory*"
   ]
  },
  {
   "cell_type": "code",
   "execution_count": 1,
   "metadata": {
    "collapsed": false
   },
   "outputs": [
    {
     "name": "stdout",
     "output_type": "stream",
     "text": [
      "Please enter amount 1:2\n",
      "Please enter amount 2:3\n",
      "Please enter amount 3:3\n",
      "The total raised is 8\n"
     ]
    }
   ],
   "source": [
    "amount1=int(input(\"Please enter amount 1:\"))\n",
    "amount2=int(input(\"Please enter amount 2:\"))\n",
    "amount3=int(input(\"Please enter amount 3:\"))\n",
    "\n",
    "total = amount1 + amount2 + amount3\n",
    "print(\"The total raised is\", total)"
   ]
  },
  {
   "cell_type": "markdown",
   "metadata": {},
   "source": [
    "In task 16 (Calculate the Area of a Rectangle Part 2) you probably used different variables for the two rectangles.  \n",
    "*Run the following code to refresh your memory*"
   ]
  },
  {
   "cell_type": "code",
   "execution_count": null,
   "metadata": {
    "collapsed": false
   },
   "outputs": [],
   "source": [
    "length1=int(input(\"Please enter length 1:\"))\n",
    "width1 =int(input(\"Please enter width  1:\"))\n",
    "\n",
    "length2=int(input(\"Please enter length 2:\"))\n",
    "width2 =int(input(\"Please enter width  2:\"))\n",
    "\n",
    "area1 = length1 * width1\n",
    "area2 = length2 * width2\n",
    "\n",
    "print(\"Area 1 is\", area1)\n",
    "print(\"Area 2 is\", area2)"
   ]
  },
  {
   "cell_type": "markdown",
   "metadata": {},
   "source": [
    "This is fine for programs that only need to process a small number of values, but becomes unwieldy with lots of values:\n",
    "```python3\n",
    "amount1=int(input(\"Please enter amount 1:\"))\n",
    "amount2=int(input(\"Please enter amount 2:\"))\n",
    "...\n",
    "amount50=int(input(\"Please enter amount 50:\"))\n",
    "\n",
    "total = amount1 + amount2 + ... + amount50\n",
    "```\n",
    "\n",
    "If you had to write a program to accept 50 inputs like this, you would become quite frustrated. Surely there must be a better way?\n",
    "\n",
    "*Of course there is*. We can now introduce the idea of **arrays** which can be used efficiently instead of lots of separate variables. (Arrays in the Python language are technically called **lists**)."
   ]
  },
  {
   "cell_type": "markdown",
   "metadata": {},
   "source": [
    "## Arrays\n",
    "Instead of lots of separate variables, arrays can be used instead.  \n",
    "An array is a list of values:\n",
    "```python3\n",
    "names = [\"Fred\",\"Anna\",...,\"Mary\"]\t\t#an array of strings\n",
    "tests = [45,34,...65]\t\t\t\t\t#an array of integers\n",
    "```\n",
    "Each vaue can be accessed by its index number, which always starts counting from 0:\n"
   ]
  }
 ],
 "metadata": {
  "kernelspec": {
   "display_name": "Python 3",
   "language": "python",
   "name": "python3"
  },
  "language_info": {
   "codemirror_mode": {
    "name": "ipython",
    "version": 3
   },
   "file_extension": ".py",
   "mimetype": "text/x-python",
   "name": "python",
   "nbconvert_exporter": "python",
   "pygments_lexer": "ipython3",
   "version": "3.4.3"
  }
 },
 "nbformat": 4,
 "nbformat_minor": 0
}

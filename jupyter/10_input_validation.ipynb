{
 "cells": [
  {
   "cell_type": "markdown",
   "metadata": {},
   "source": [
    "# Input Validation"
   ]
  },
  {
   "cell_type": "markdown",
   "metadata": {},
   "source": [
    "One common reason for programs crashing is bad input.  \n",
    "Input Validation is used to check that any data entered by a user is suitable before it is used by the program.  \n",
    "To avoid making the program too complex, validation routines can be written as **subprograms**.\n",
    "\n",
    "## Subprograms:\n",
    "* Must be defined at the start of the program, before they are used by the main program\n",
    "* Can be copied and customised between programs\n",
    "* Can be tested separately\n",
    "\n",
    "In Python, all sub-programs are technically known as **functions**.\n",
    "* Functions are **defined** with the **def** keyword. The code inside a function definition will not be executed unless you *call* the function.\n",
    "* You must give your functions a name. It should be named in lower case using underscores_to_join_words.\n",
    "* When you 'use' your function, you *call* it. You can call your function as many times as you wish."
   ]
  },
  {
   "cell_type": "markdown",
   "metadata": {},
   "source": [
    "## Simple Function Example\n",
    "\n",
    "Here is a pretty basic example of defining and then using a function 'subprogram' in Python.  \n",
    "*Run this code and you should see a small part of the two times table, twice over.*"
   ]
  },
  {
   "cell_type": "code",
   "execution_count": null,
   "metadata": {
    "collapsed": false
   },
   "outputs": [],
   "source": [
    "def my_function():\n",
    "    \"\"\"print a bit of the two times table\"\"\"\n",
    "    for i in [4,5,6]:\n",
    "        print(\"{0} times 2 = {1}\".format(i, i*2))\n",
    "        \n",
    "print(\"Part of The 2 Times Table Program\")\n",
    "my_function()\n",
    "print(\"\\nHere it is again\")\n",
    "my_function()"
   ]
  },
  {
   "cell_type": "markdown",
   "metadata": {
    "collapsed": true
   },
   "source": [
    "## Simple Function Exercise \n",
    "\n",
    "To see if you've got the basic idea, finish this little **function** or subprogram.  \n",
    "*Change the empty print() function on the third line to print(\"A wee hello message!\")*"
   ]
  },
  {
   "cell_type": "code",
   "execution_count": null,
   "metadata": {
    "collapsed": false
   },
   "outputs": [],
   "source": [
    "def wee_function():\n",
    "    \"\"\"print a wee message\"\"\"\n",
    "    print()\n",
    "    \n",
    "print(\"Let's call your function:\")\n",
    "wee_function()\n",
    "print(\"Now call it again:\")\n",
    "wee_function()"
   ]
  },
  {
   "cell_type": "markdown",
   "metadata": {},
   "source": [
    "### What you should see...\n",
    "If you've done it right your output should look something like this:\n",
    "\n",
    "```Let's call your function:\n",
    "A wee hello message!\n",
    "Now call it again:\n",
    "A wee hello message!```\n",
    "\n",
    "The important thing to notice is that you only need to tell Python how to print(\"A wee hello message\") at one point in the program (i.e. in the function definition). You can then call that function multiple times and have it execute your code.\n",
    "\n"
   ]
  },
  {
   "cell_type": "markdown",
   "metadata": {},
   "source": [
    "## Function Arguments\n",
    "\n",
    "To be more useful, functions can accept **arguments**. Below, there is a function to print a personalised welcome message. \n",
    "* The argument in this function is **name**. \n",
    "* Whatever value (string or otherwise) you pass to the function when you call it will be loaded into the variable **name**. \n",
    "* You can see that **name** gets used 3 times within the function.  \n",
    "* You can change **name** to be any variable name you like, as long as you change it everywhere within the function.\n",
    "**name**'s value will not be available outside the function (technically, it has local scope and exists only within the function's stack frame).\n",
    "* **name** is a therefore called a *dummy variable*."
   ]
  },
  {
   "cell_type": "code",
   "execution_count": null,
   "metadata": {
    "collapsed": false
   },
   "outputs": [],
   "source": [
    "def welcome(name):\n",
    "    if name==\"Donald Trump\":\n",
    "        print(\"Gonnae no dae that?\",name,\"just, gonnae no?\")\n",
    "    else:\n",
    "        print(\"Welcome\", name, \"great things await no doubt.\")\n",
    "        \n",
    "print(\"Welcome to the Welcome Program\")\n",
    "welcome(\"Boris\")\n",
    "welcome(\"Donald Trump\")\n",
    "welcome(32)"
   ]
  },
  {
   "cell_type": "markdown",
   "metadata": {},
   "source": [
    "## Functions Can Return Values\n",
    "Continuing with their desire to be useful, functions can *return a value*. So what does that mean? Here's a couple of examples. We have a function that returns either True or False depending on what day of the week it is, and another function which returns double it's argument. \n",
    "* Notice that both functions take arguments (although functions can return a value whether or not they takes arguments)\n",
    "* Notice that neither function prints anything. This is generally good practice - separate processing from output.\n",
    "* The values *returned* from the functions can be assigned to variables (otherwise they are instantly destroyed).\n",
    "* The values *returned* can be passed directly into a print function (or passed into any other function)\n",
    "\n",
    "*Run the code and make sure that you understand why what gets printed in which order.  \n",
    "[Is that bad grammar? Don't tell your English teecher].*"
   ]
  },
  {
   "cell_type": "code",
   "execution_count": null,
   "metadata": {
    "collapsed": false
   },
   "outputs": [],
   "source": [
    "def day_of_the_week(day):\n",
    "    if day==\"Saturday\" or day==\"Sunday\":\n",
    "        message = \"It is the weekend. Yay.\"\n",
    "    elif day in [\"Monday\", \"Tuesday\", \"Wednesday\", \"Thursday\", \"Friday\"]:\n",
    "        message = \"It is not the weekend, nay.\"\n",
    "    else:\n",
    "        message = \"You are an idiot.\"\n",
    "    return message\n",
    "        \n",
    "print(day_of_the_week(\"Saturday\")) #this prints immediately.\n",
    "day_of_the_week(\"Sunday\") #oops, not doing anything with the return value: destroyed.\n",
    "response = day_of_the_week(\"Monday\") #this doesn't get printed, yet\n",
    "print(day_of_the_week(\"Monster Munch\")) #this also prints immediately.\n",
    "print(response) #now that earlier message gets printed"
   ]
  },
  {
   "cell_type": "markdown",
   "metadata": {},
   "source": [
    "## Validating Strings\n",
    "\n",
    "This function will let the user type in either “Y”, “N”,”Yes” or “No” in any combination of capital and lowercase letters. Either a “Y” or “N” is sent back to the main program.\n",
    "\n",
    "*Run it and enter N at the prompt. Eventually the happy police will wear you down to conformance.*"
   ]
  },
  {
   "cell_type": "code",
   "execution_count": null,
   "metadata": {
    "collapsed": false
   },
   "outputs": [],
   "source": [
    "def get_yes_or_no(prompt):\n",
    "    \"\"\"Input validation returning either Y or N\"\"\"\n",
    "    yesno = input(prompt)\n",
    "    yesno = yesno.upper()\n",
    "    while not(yesno in [\"Y\", \"N\", \"YES\", \"NO\"]):\n",
    "        print(\"Invalid Input\")\n",
    "        yesno = input(prompt)\n",
    "        yesno = yesno.upper()\n",
    "    return yesno[0] # first char of string guaranteed to be Y or N\n",
    "\n",
    "# Sample program\n",
    "happy = get_yes_or_no(\"Are you happy?\")\n",
    "while happy==\"N\":\n",
    "    print(\"Be happy\")\n",
    "    happy = get_yes_or_no(\"Are you happy?\")\n",
    "print(\"I'm happy too. \")\n"
   ]
  },
  {
   "cell_type": "markdown",
   "metadata": {},
   "source": [
    "## Validating Integers\n",
    "\n",
    "A common validation is to check that only whole numbers within a certain range are entered – a range check.\n",
    "In Python this requires two subprograms:\n",
    "* one to stop text or decimal inputs crashing the program  \n",
    "     **you should copy this get_integer function exactly as it is.**\n",
    "* one to check the number is in the range  \n",
    "     **you should copy and customise this function for different tasks, giving it a sensible name of your own choosing.**"
   ]
  },
  {
   "cell_type": "code",
   "execution_count": null,
   "metadata": {
    "collapsed": false
   },
   "outputs": [],
   "source": [
    "def get_integer(prompt):\n",
    "    \"\"\"Display prompt and get integer without crashing\"\"\"\n",
    "    while True:\n",
    "        try:\n",
    "            i = int(input(prompt))\n",
    "            return i\n",
    "        except ValueError:\n",
    "            print(\"That is not an integer\")\n",
    "            \n",
    "def get_valid_class_size(prompt):\n",
    "    \"\"\"Get a class size from 0 to 30. Uses the get_integer function\"\"\"\n",
    "    class_size =get_integer(prompt)\n",
    "    while class_size<0 or class_size>30:\n",
    "        print(\"Invalid - must be from 0 to 30\")\n",
    "        class_size = get_integer(prompt)\n",
    "    return class_size\n",
    "\n",
    "#Sample Program\n",
    "class1 = get_valid_class_size(\"How many pupils in Mr T's class?\")\n",
    "class2 = get_valid_class_size(\"How many pupils in Ms S's class?\")\n",
    "both_classes = class1 + class2\n",
    "print(\"Total number of pupils = \", both_classes)"
   ]
  },
  {
   "cell_type": "markdown",
   "metadata": {},
   "source": [
    "## Validating Real Numbers\n",
    "\n",
    "In Python this requires two subprograms:\n",
    "* one to stop text inputs crashing the program   \n",
    "    **you should copy this get_decimal function exactly as it is**\n",
    "* one to check the number is in the range  \n",
    "    **you should copy and customise this function for different tasks**"
   ]
  },
  {
   "cell_type": "code",
   "execution_count": null,
   "metadata": {
    "collapsed": false
   },
   "outputs": [],
   "source": [
    "def get_decimal(prompt):\n",
    "    \"\"\"Display prompt and get number without crashing\"\"\"\n",
    "    while True:\n",
    "        try:\n",
    "            i = float(input(prompt))\n",
    "            return i\n",
    "        except ValueError:\n",
    "            print(\"That is not a number\")\n",
    "            \n",
    "def get_valid_price(prompt):\n",
    "    \"\"\"Get a price from 0.01 to 100.00\"\"\"\n",
    "    price = get_decimal(prompt)\n",
    "    while price<0.01 or price>100.00:\n",
    "        print(\"Invalid - must be from £0.01 to £100.00\")\n",
    "        price = get_decimal(prompt)\n",
    "    return price\n",
    "\n",
    "# Sample program\n",
    "book1 = get_valid_price(\"How much is book 1? \")\n",
    "book2 = get_valid_price(\"How much is book 2? \")\n",
    "both_books = book1 + book2\n",
    "print(\"Total price £\", both_books)\n"
   ]
  },
  {
   "cell_type": "markdown",
   "metadata": {},
   "source": [
    "**You can now complete tasks 36-38**"
   ]
  }
 ],
 "metadata": {
  "kernelspec": {
   "display_name": "Python 3",
   "language": "python",
   "name": "python3"
  },
  "language_info": {
   "codemirror_mode": {
    "name": "ipython",
    "version": 3
   },
   "file_extension": ".py",
   "mimetype": "text/x-python",
   "name": "python",
   "nbconvert_exporter": "python",
   "pygments_lexer": "ipython3",
   "version": "3.4.3"
  }
 },
 "nbformat": 4,
 "nbformat_minor": 0
}

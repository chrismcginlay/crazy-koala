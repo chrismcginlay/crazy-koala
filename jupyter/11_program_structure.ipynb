{
 "cells": [
  {
   "cell_type": "markdown",
   "metadata": {},
   "source": [
    "# Program Structure\n",
    "Your programs are now becoming more complex, with a main program and subprograms.\n",
    "Your programs should now follow this layout, using comments to divide the program into sections:\n",
    "\n",
    "```python3\n",
    "# Program Title\n",
    "# Programmer's Name\n",
    "# Date\n",
    "\n",
    "# +++++++++++++++++++++++++++++++++++++++++++\n",
    "# Sub Programs\n",
    "# +++++++++++++++++++++++++++++++++++++++++++\n",
    "\n",
    "Input validation functions\n",
    "\n",
    "# +++++++++++++++++++++++++++++++++++++++++++\n",
    "# Main Program\n",
    "# +++++++++++++++++++++++++++++++++++++++++++\n",
    "\n",
    "Main program code\n",
    "```"
   ]
  }
 ],
 "metadata": {
  "kernelspec": {
   "display_name": "Python 3",
   "language": "python",
   "name": "python3"
  },
  "language_info": {
   "codemirror_mode": {
    "name": "ipython",
    "version": 3
   },
   "file_extension": ".py",
   "mimetype": "text/x-python",
   "name": "python",
   "nbconvert_exporter": "python",
   "pygments_lexer": "ipython3",
   "version": "3.4.3"
  }
 },
 "nbformat": 4,
 "nbformat_minor": 0
}

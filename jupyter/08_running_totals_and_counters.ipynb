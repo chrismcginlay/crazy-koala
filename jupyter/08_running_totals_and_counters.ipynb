{
 "cells": [
  {
   "cell_type": "markdown",
   "metadata": {},
   "source": [
    "# 8. Running Totals and Counters"
   ]
  },
  {
   "cell_type": "markdown",
   "metadata": {},
   "source": [
    "A common use of loops is to add several numbers together, or count how many times something is entered. This requires setting a total or a counter to zero, and then keep adding to the it inside the loop.\n",
    "\n",
    "## Example 1\n",
    "Suppose you are head teacher of Beanotown High. The number of pupils in each year S1 to S6 is as follows:  \n",
    "110,133,97,127,86,48. You have written a program (below) to input each of these numbers and add them up.\n",
    "\n",
    "*Run the program, enter the numbers above.*"
   ]
  },
  {
   "cell_type": "code",
   "execution_count": null,
   "metadata": {
    "collapsed": false
   },
   "outputs": [],
   "source": [
    "total = 0        # initialise total\n",
    "\n",
    "for yeargroup in range(6):\n",
    "    prompt = \"How many pupils are in year S\"+str(yeargroup+1)+\": \"\n",
    "    pupils = int(input(prompt))\n",
    "    total = total + pupils   # add to total\n",
    "\n",
    "print(\"Total = \", total)"
   ]
  },
  {
   "cell_type": "markdown",
   "metadata": {},
   "source": [
    "If you have done it right, you should see  \n",
    "\n",
    "Total = 601"
   ]
  },
  {
   "cell_type": "markdown",
   "metadata": {},
   "source": [
    "## Example 2\n",
    "Suppose you are a bored kid on a long car journey:\n",
    "![Bored kid in a car - needs an app, badly.](https://svanaswegen.files.wordpress.com/2013/04/bored-kid-5509.jpg)\n",
    "To alleviate the tedium you decide to count the number of \"Ford\", \"Vauxhall\", \"Mazda\" cars.  \n",
    "You have created an app on your phone running something like this:\n"
   ]
  },
  {
   "cell_type": "code",
   "execution_count": null,
   "metadata": {
    "collapsed": false
   },
   "outputs": [],
   "source": [
    "vauxhall = 0\n",
    "ford = 0\n",
    "mazda = 0\n",
    "for car in range(10):\n",
    "    car_make = input(\"Enter make of car f, v or m: \")\n",
    "    if car_make == \"f\":\n",
    "        ford = ford + 1           # it's a ford!\n",
    "    if car_make == \"v\":\n",
    "        vauxhall = vauxhall + 1   # another vauxhall\n",
    "    if car_make == \"m\":\n",
    "        mazda += 1                # += 1 is a nice shorthand for adding 1\n",
    "        \n",
    "print(\"\\nYou saw:\")               # \\n forces a new line.\n",
    "print(str(ford)+\" Fords,\")\n",
    "print(str(vauxhall)+\" Vauxhalls,\")\n",
    "print(str(mazda)+\" Mazdas.\")\n",
    "input(\"Press Enter to Finish\")"
   ]
  },
  {
   "cell_type": "markdown",
   "metadata": {},
   "source": [
    "*Run the program above, if you haven't already!* It just runs for 10 cars.  \n",
    "\n",
    "*Now, change the copy of the program below to add another make of car, eg. Kia, Skoda, Jaguar. Try out your program to see that it works*"
   ]
  },
  {
   "cell_type": "code",
   "execution_count": null,
   "metadata": {
    "collapsed": true
   },
   "outputs": [],
   "source": [
    "# Edit this copy of the program to handle another make of car.\n",
    "vauxhall = 0\n",
    "ford = 0\n",
    "mazda = 0\n",
    "for car in range(10):\n",
    "    car_make = input(\"Enter make of car f, v or m: \")\n",
    "    if car_make == \"f\":\n",
    "        ford = ford + 1           # it's a ford!\n",
    "    if car_make == \"v\":\n",
    "        vauxhall = vauxhall + 1   # anothber vauxhall\n",
    "    if car_make == \"m\":\n",
    "        mazda += 1                # += 1 is a nice shorthand for adding 1\n",
    "        \n",
    "print(\"\\nYou saw:\")               # \\n forces a new line.\n",
    "print(str(ford)+\" Fords,\")\n",
    "print(str(vauxhall)+\" Vauxhalls,\")\n",
    "print(str(mazda)+\" Mazdas.\")\n",
    "input(\"Press Enter to Finish\")"
   ]
  },
  {
   "cell_type": "markdown",
   "metadata": {},
   "source": [
    "**You can now complete task 24, 27, 28.**"
   ]
  }
 ],
 "metadata": {
  "kernelspec": {
   "display_name": "Python 3",
   "language": "python",
   "name": "python3"
  },
  "language_info": {
   "codemirror_mode": {
    "name": "ipython",
    "version": 3
   },
   "file_extension": ".py",
   "mimetype": "text/x-python",
   "name": "python",
   "nbconvert_exporter": "python",
   "pygments_lexer": "ipython3",
   "version": "3.4.3"
  }
 },
 "nbformat": 4,
 "nbformat_minor": 0
}

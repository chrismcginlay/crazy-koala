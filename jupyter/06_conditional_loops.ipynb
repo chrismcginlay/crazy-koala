{
 "cells": [
  {
   "cell_type": "markdown",
   "metadata": {},
   "source": [
    "# 6 Conditional Loops"
   ]
  },
  {
   "cell_type": "markdown",
   "metadata": {},
   "source": [
    "## Loops\n",
    "Loops are a big deal in computing and robotics! Think about the kinds of tasks that computers and robots often get used for:\n",
    "- jobs that are dangerous\n",
    "- jobs where accuracy is important\n",
    "- jobs that are repetitive and where a human might get bored!\n",
    "**Loops** are basically how a computer programmer can make the computer do the same thing over and over again. There are two main kinds of loops\n",
    "* Conditional Loops\n",
    "* Fixed Loops\n",
    "\n",
    "## Simplest Conditional Loop\n",
    "The most basic **conditional loop** is one that goes on forever. Think about a task where you do the same sequence of operations endlessly - for example production line work often involves seemingly endless loops:  \n",
    "* pick up product from conveyor belt\n",
    "* check product looks OK\n",
    "* put product in packing crate\n",
    "\n",
    "![Production line workers - repetitive tasks](https://i.ytimg.com/vi/plJklnMNjPg/maxresdefault.jpg)\n",
    "\n",
    "Factories often use robots to do the kind of repetitive work pictured above - for around £20,000 a reconditioned robotic system could pack these crates.  \n",
    "In Python we can use a **while** loop to keep doing the same thing over and over:\n",
    "```python\n",
    "    while True:\n",
    "        pick_up_product()\n",
    "        check_product()\n",
    "        put_product_in_crate()\n",
    "```\n",
    "\n",
    "The part in brackets () is called the **condition**. In this case, we have set the condition to be **True** permananently. This means the loop would go on forever, which is sometimes what you want. Later we will see how if the condition in the brackets () ever stops being True then the loop would stop."
   ]
  },
  {
   "cell_type": "markdown",
   "metadata": {},
   "source": [
    "## A Conditional Loop with an Actual Condition!\n",
    "A conditional loop is repeatedly carried out a block of code until a **condition** of some kind is met."
   ]
  },
  {
   "cell_type": "markdown",
   "metadata": {},
   "source": [
    "You are now going to run these two small programs. They should be ready to run, you don't need to edit them.\n",
    "\n",
    "*Run the first program. Once running, you should see that it repeatedly runs its code block until you supply the magic word. Get it wrong first, then enter the magic word*"
   ]
  },
  {
   "cell_type": "code",
   "execution_count": null,
   "metadata": {
    "collapsed": false
   },
   "outputs": [],
   "source": [
    "word = input(\"What is the magic word? \")\n",
    "while word!=\"abracadabra\":\n",
    "    word = input(\"Wrong. Try again. What is the magic word? \")\n",
    "print(\"Correct\")"
   ]
  },
  {
   "cell_type": "markdown",
   "metadata": {},
   "source": [
    "If you've done it right, your output should look like this:\n",
    "\n",
    "What is the magic word? Foobar  \n",
    "Wrong. Try again. What is the magic word? abracadabra  \n",
    "Correct\n",
    "\n",
    "In Python **!=** means **is not equal to**"
   ]
  },
  {
   "cell_type": "markdown",
   "metadata": {},
   "source": [
    "*Run the second program. This one will keep repeating its code block until you type in one of the words in the list [\"yes\", \"no\"]*."
   ]
  },
  {
   "cell_type": "code",
   "execution_count": null,
   "metadata": {
    "collapsed": false
   },
   "outputs": [],
   "source": [
    "happy = input(\"Are you happy? \")\n",
    "while not(happy in [\"yes\",\"no\"]):\n",
    "    print(\"I did not understand. \")\n",
    "    happy = input(\"Are you happy? \")"
   ]
  },
  {
   "cell_type": "markdown",
   "metadata": {},
   "source": [
    "If you've done it right, your output should look like this:\n",
    "\n",
    "Are you happy? Naw.  \n",
    "I did not understand.   \n",
    "Are you happy? aye  \n",
    "I did not understand.   \n",
    "Are you happy? yes  \n"
   ]
  },
  {
   "cell_type": "markdown",
   "metadata": {},
   "source": [
    "*By adding some more words to the list [\"yes\", \"no] edit the program below to accept \"Yes\", \"No\" and test it by running it a few times*"
   ]
  },
  {
   "cell_type": "code",
   "execution_count": null,
   "metadata": {
    "collapsed": true
   },
   "outputs": [],
   "source": [
    "happy = input(\"Are you happy? \")\n",
    "while not(happy in [\"yes\",\"no\"]):  #Add to this list of words here\n",
    "    print(\"I did not understand. \")\n",
    "    happy = input(\"Are you happy? \")"
   ]
  },
  {
   "cell_type": "markdown",
   "metadata": {},
   "source": [
    "## Infinite Loops of the Unwanted Kind :-(\n",
    "Sadly, some infinite loops are unwanted and unloved. You know this situation already: it happens when you get the spinning circle on your phone or computer, and after a while you realise it's never going to finish doing whatever it was supposed to be doing.\n",
    "\n",
    "(The ```python while True:``` loop at the beginning of the this page can sometimes be useful.)\n",
    "\n",
    "These three examples will never end. The end user will find that your program has crashed or '...is Not Responding'. Don't try to run these, *but do try to see why they will not work.*\n",
    "\n",
    "Fawlty Loop | Why It's Borked\n",
    "-|-\n",
    "happy = input(\"Are you happy?\") <br> while not(happy in [\"yes\",\"no\"]): <br> &nbsp;&nbsp;&nbsp;&nbsp; print(\"I did not understand.\") | The program keeps displaying the error message as the user never gets to type in a new answer <br> (unless you answer correctly on the first attempt).\n",
    "number = 1 <br>&nbsp;&nbsp;&nbsp;&nbsp; while number>0:<br>&nbsp;&nbsp;&nbsp;&nbsp; number = number + 1 <br>&nbsp;&nbsp;&nbsp;&nbsp; print(number) | The program keeps counting forever since number is always bigger than 0.\n",
    "gender = input(\"Enter M or F: \") <br> while gender!=\"M\" or gender!=\"F\": <br> &nbsp;&nbsp;&nbsp;&nbsp; print(\"Invalid input\") <br> &nbsp;&nbsp;&nbsp;&nbsp; gender= input(\"Enter M or F:\") | If the users types “X”, then this is not equal to “M”, so it is invalid.<br>If the user types “F”, then it is not equal to “M”, so it is invalid.<br>If the user types “M”, then it is not equal to “F”, so it is invalid.<br>Everything is invalid – the “or” in the while should be an “and”.<br>The entire premise of this example ignores non-binary gender too"
   ]
  },
  {
   "cell_type": "markdown",
   "metadata": {},
   "source": [
    "**You can now complete tasks 32-35 (we will come back to the questions just before Q32 shortly)**"
   ]
  }
 ],
 "metadata": {
  "kernelspec": {
   "display_name": "Python 3",
   "language": "python",
   "name": "python3"
  },
  "language_info": {
   "codemirror_mode": {
    "name": "ipython",
    "version": 3
   },
   "file_extension": ".py",
   "mimetype": "text/x-python",
   "name": "python",
   "nbconvert_exporter": "python",
   "pygments_lexer": "ipython3",
   "version": "3.4.3"
  }
 },
 "nbformat": 4,
 "nbformat_minor": 0
}

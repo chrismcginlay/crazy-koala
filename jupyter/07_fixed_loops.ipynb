{
 "cells": [
  {
   "cell_type": "markdown",
   "metadata": {
    "collapsed": true
   },
   "source": [
    "# 7. Fixed Loops"
   ]
  },
  {
   "cell_type": "markdown",
   "metadata": {},
   "source": [
    "In the previous lesson we studied **conditional loops**. Now it is time to see **fixed loops**. \n",
    "\n",
    "What's the difference?\n",
    "\n",
    "With a fixed loop, you know how many times you are going to repeat the loop in advance. This is not the case with conditional loops as you have seen."
   ]
  },
  {
   "cell_type": "markdown",
   "metadata": {},
   "source": [
    "*Run this code. It should produce 5 stars, each on a separate line.  \n",
    "Then change it to produce just 3 stars, each on a separate line.*"
   ]
  },
  {
   "cell_type": "code",
   "execution_count": null,
   "metadata": {
    "collapsed": false
   },
   "outputs": [],
   "source": [
    "for star in range(5):\n",
    "   print(\"*\")"
   ]
  },
  {
   "cell_type": "markdown",
   "metadata": {},
   "source": [
    "If you've done it right, your output should now look like this:\n",
    "\n",
    "\\*   \n",
    "\\*  \n",
    "\\*  "
   ]
  },
  {
   "cell_type": "markdown",
   "metadata": {},
   "source": [
    "The function **range()** will produce a series of numbers for you, **starting with zero by default**.  \n",
    "Technically, range(n) produces a *zero indexed iterator 0,1,2,..,n*  \n",
    "\n",
    "*Run this code to produce a count from zero to four:*"
   ]
  },
  {
   "cell_type": "code",
   "execution_count": null,
   "metadata": {
    "collapsed": false
   },
   "outputs": [],
   "source": [
    "for number in range(5):\n",
    "    print(number)"
   ]
  },
  {
   "cell_type": "markdown",
   "metadata": {},
   "source": [
    "The **variable** *number* is called a 'dummy variable'. It's not that we are insulting it, rather think of *number* as a placeholder. In the copy of the same loop below, *you should change both instances of **number** to a variable name of your own choice*. I recommend *beeblebrox*, but it's up to you. *Make sure the code still works as before.*"
   ]
  },
  {
   "cell_type": "code",
   "execution_count": null,
   "metadata": {
    "collapsed": false
   },
   "outputs": [],
   "source": [
    "for number in range(5):\n",
    "    print(number)"
   ]
  },
  {
   "cell_type": "markdown",
   "metadata": {},
   "source": [
    "Ranges can start with other numbers, but stop before the second number. \n",
    "\n",
    "*Run this code to obtain a list from 10 to 19*"
   ]
  },
  {
   "cell_type": "code",
   "execution_count": null,
   "metadata": {
    "collapsed": false
   },
   "outputs": [],
   "source": [
    "for number in range(10,20):\n",
    "   print(number, end=' ')"
   ]
  },
  {
   "cell_type": "markdown",
   "metadata": {},
   "source": [
    "*You should now change the following program so that is shows a list of the numbers from 20 to 39.  \n",
    "Please see how we now put a comma after each number as well as a space.*"
   ]
  },
  {
   "cell_type": "code",
   "execution_count": null,
   "metadata": {
    "collapsed": false
   },
   "outputs": [],
   "source": [
    "for number in range(10,20): #change the range!\n",
    "   print(number, end=' ')   #change the end to end=','"
   ]
  },
  {
   "cell_type": "markdown",
   "metadata": {},
   "source": [
    "If you've done it right, your output should now look like this:  \n",
    "\n",
    "20,21,22,23,24,25,26,27,28,29,30,31,32,33,34,35,36,37,38,39,"
   ]
  },
  {
   "cell_type": "markdown",
   "metadata": {},
   "source": [
    "Ranges can go up (or down) by different numbers. \n",
    "\n",
    "*Run this example to produce the first few odd numbers.*"
   ]
  },
  {
   "cell_type": "code",
   "execution_count": null,
   "metadata": {
    "collapsed": false
   },
   "outputs": [],
   "source": [
    "for number in range(1,20,2):\n",
    "   print(number, end=' ')"
   ]
  },
  {
   "cell_type": "markdown",
   "metadata": {},
   "source": [
    "*Alter this code to produce the stations of the 6 times table:*"
   ]
  },
  {
   "cell_type": "code",
   "execution_count": null,
   "metadata": {
    "collapsed": false
   },
   "outputs": [],
   "source": [
    "for number in range(0,73,3):\n",
    "    print(number, end=' ')"
   ]
  },
  {
   "cell_type": "markdown",
   "metadata": {},
   "source": [
    "If you've done it right, you should have the following output:  \n",
    "0 6 12 18 24 30 36 42 48 54 60 66 72 "
   ]
  },
  {
   "cell_type": "markdown",
   "metadata": {},
   "source": [
    "Python range() function can also count backwards, of course.\n",
    "\n",
    "```python\n",
    "for number in range(10,0,-1):\n",
    "    print(number)\n",
    "```  \n",
    "\n",
    "Output will be 10, 9, 8, 7, 6, 5, 4, 3, 2, 1 (without the commas). **Notice this does include 10, but doesn't include 0**"
   ]
  },
  {
   "cell_type": "markdown",
   "metadata": {},
   "source": [
    "**You can now complete programming tasks 21-23, task 26, tasks 30-31**  \n",
    "Leave 24, 25, 27, 28, and 29 for now."
   ]
  }
 ],
 "metadata": {
  "kernelspec": {
   "display_name": "Python 3",
   "language": "python",
   "name": "python3"
  },
  "language_info": {
   "codemirror_mode": {
    "name": "ipython",
    "version": 3
   },
   "file_extension": ".py",
   "mimetype": "text/x-python",
   "name": "python",
   "nbconvert_exporter": "python",
   "pygments_lexer": "ipython3",
   "version": "3.4.3"
  }
 },
 "nbformat": 4,
 "nbformat_minor": 0
}

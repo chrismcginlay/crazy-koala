{
 "cells": [
  {
   "cell_type": "markdown",
   "metadata": {},
   "source": [
    "# 6 Conditional Loops"
   ]
  },
  {
   "cell_type": "markdown",
   "metadata": {},
   "source": [
    "## Loops\n",
    "Loops are a big deal in computing and robotics! Think about the kinds of tasks that computers and robots often get used for:\n",
    "- jobs that are dangerous\n",
    "- jobs where accuracy is important\n",
    "- jobs that are repetitive and where a human might get bored!\n",
    "**Loops** are basically how a computer programmer can make the computer do the same thing over and over again. There are two main kinds of loops\n",
    "* Conditional Loops\n",
    "* Fixed Loops\n",
    "\n",
    "## Simplest Conditional Loop\n",
    "The most basic **conditional loop** is one that goes on forever. Think about a task where you do the same sequence of operations endlessly - for example production line work often involves seemingly endless loops:  \n",
    "* pick up product from conveyor belt\n",
    "* check product looks OK\n",
    "* put product in packing crate\n",
    "\n",
    "![Production line workers - repetitive tasks](https://i.ytimg.com/vi/plJklnMNjPg/maxresdefault.jpg)\n",
    "\n",
    "Factories often use robots to do the kind of repetitive work pictured above - for around £20,000 a reconditioned robotic system could pack these crates.  \n",
    "In Python we can use a **while** loop to keep doing the same thing over and over:\n",
    "```python\n",
    "    while(True):\n",
    "        pick_up_product()\n",
    "        check_product()\n",
    "        put_product_in_crate()\n",
    "```\n",
    "\n",
    "The part in brackets () is called the **condition**. In this case, we have set the condition to be **True** permananently. This means the loop would go on forever, which is sometimes what you want. Later we will see how if the condition in the brackets () ever stops being True then the loop would stop."
   ]
  }
 ],
 "metadata": {
  "kernelspec": {
   "display_name": "Python 3",
   "language": "python",
   "name": "python3"
  },
  "language_info": {
   "codemirror_mode": {
    "name": "ipython",
    "version": 3
   },
   "file_extension": ".py",
   "mimetype": "text/x-python",
   "name": "python",
   "nbconvert_exporter": "python",
   "pygments_lexer": "ipython3",
   "version": "3.5.1"
  }
 },
 "nbformat": 4,
 "nbformat_minor": 0
}

{
 "cells": [
  {
   "cell_type": "markdown",
   "metadata": {},
   "source": [
    "# Pretty Printing - Decimal Places"
   ]
  },
  {
   "cell_type": "markdown",
   "metadata": {},
   "source": [
    "Python will print real numbers to many decimal places, usually more than is necessary.  \n",
    "*Run this code to see well over 10 decimal places*"
   ]
  },
  {
   "cell_type": "code",
   "execution_count": 1,
   "metadata": {
    "collapsed": false
   },
   "outputs": [
    {
     "name": "stdout",
     "output_type": "stream",
     "text": [
      "0.5714285714285714\n"
     ]
    }
   ],
   "source": [
    "answer = 4/7\n",
    "print(answer)"
   ]
  },
  {
   "cell_type": "markdown",
   "metadata": {},
   "source": [
    "Now, suppose you would like to have just two decimal places. We can use Python's **format()** function to help.  \n",
    "*Run this code, it produces just **two** decimal places*, rounding up as appropriate."
   ]
  },
  {
   "cell_type": "code",
   "execution_count": 2,
   "metadata": {
    "collapsed": false
   },
   "outputs": [
    {
     "name": "stdout",
     "output_type": "stream",
     "text": [
      "0.57\n"
     ]
    }
   ],
   "source": [
    "answer = 4/7\n",
    "answer_2dp = format(answer, '0.2f')\n",
    "print(answer_2dp)"
   ]
  },
  {
   "cell_type": "markdown",
   "metadata": {},
   "source": [
    "Next up, let's see how to print money! (without getting arrested):"
   ]
  },
  {
   "cell_type": "code",
   "execution_count": 9,
   "metadata": {
    "collapsed": false
   },
   "outputs": [
    {
     "name": "stdout",
     "output_type": "stream",
     "text": [
      "Average price £27.27\n"
     ]
    }
   ],
   "source": [
    "average_price = 300/11    #just some random calculation with lots of decimal places\n",
    "average_price_2dp = format(average_price, '0.2f')\n",
    "print(\"Average price £\"+average_price_2dp)"
   ]
  },
  {
   "cell_type": "markdown",
   "metadata": {},
   "source": [
    "Once you have run the code, your output should be:  \n",
    "Average price £27.27\n",
    "\n",
    "**Note:**  \n",
    "1. ```average_price_2dp``` is a string, not a number. It cannot be used in any further calculations.  \n",
    "1. The **format()** function should only be used **just before** the formatted number is to be **printed.**\n",
    "1. The **format()** function can do a lot more. See https://docs.python.org/3/library/string.html#format-string-syntax for more info if you want."
   ]
  }
 ],
 "metadata": {
  "kernelspec": {
   "display_name": "Python 3",
   "language": "python",
   "name": "python3"
  },
  "language_info": {
   "codemirror_mode": {
    "name": "ipython",
    "version": 3
   },
   "file_extension": ".py",
   "mimetype": "text/x-python",
   "name": "python",
   "nbconvert_exporter": "python",
   "pygments_lexer": "ipython3",
   "version": "3.4.3"
  }
 },
 "nbformat": 4,
 "nbformat_minor": 0
}

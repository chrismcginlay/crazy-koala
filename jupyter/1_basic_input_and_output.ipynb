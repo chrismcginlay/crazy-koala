{
 "cells": [
  {
   "cell_type": "markdown",
   "metadata": {},
   "source": [
    "# Basic Input and Output"
   ]
  },
  {
   "cell_type": "markdown",
   "metadata": {
    "slideshow": {
     "slide_type": "notes"
    }
   },
   "source": [
    "## Basic Output - print()\n",
    "In Python, we talk about the **terminal** - by this we really just mean the screen, or maybe a window on the screen.\n",
    "\n",
    "Python 3 can output to the terminal using the print() function. In the very early days of computers, there weren't any screens - terminal output always went to a printer, hence telling a computer to print() would spew something out of a printer. Nowadays, we still use the print() function, but the output goes to a screen!\n",
    "\n",
    "You just\n",
    "* type print\n",
    "* open a bracket (\n",
    "* put in the stuff you want to show on the screen or terminal\n",
    "* close the bracket )\n",
    "\n",
    "```python\n",
    "print(42)\n",
    "print('Boris')\n",
    "```\n",
    "\n",
    "Try it yourself. This bit of python will print the number 42 and the name 'Boris'. \n",
    "\n",
    "*Fix the last two lines to show the number 47 and the name 'Jane'.*"
   ]
  },
  {
   "cell_type": "code",
   "execution_count": 3,
   "metadata": {
    "collapsed": false,
    "scrolled": false
   },
   "outputs": [
    {
     "ename": "SyntaxError",
     "evalue": "EOL while scanning string literal (<ipython-input-3-e435a1ff28e5>, line 4)",
     "output_type": "error",
     "traceback": [
      "\u001b[1;36m  File \u001b[1;32m\"<ipython-input-3-e435a1ff28e5>\"\u001b[1;36m, line \u001b[1;32m4\u001b[0m\n\u001b[1;33m    'Jane\u001b[0m\n\u001b[1;37m         ^\u001b[0m\n\u001b[1;31mSyntaxError\u001b[0m\u001b[1;31m:\u001b[0m EOL while scanning string literal\n"
     ]
    }
   ],
   "source": [
    "print(42)\n",
    "print('Boris')\n",
    "pint[47\n",
    "'Jane"
   ]
  },
  {
   "cell_type": "markdown",
   "metadata": {},
   "source": [
    "If you've done it right, the error messages should go away and your output should look like this:\n",
    "\n",
    "`42\n",
    "Boris\n",
    "47\n",
    "Jane`"
   ]
  },
  {
   "cell_type": "markdown",
   "metadata": {},
   "source": [
    "## Printing More Than One Thing\n",
    "You can put `42 Boris 47 Jane` on the screen using just one `print()` function instead of four.\n",
    "\n",
    "*Change the following line to print `42 Boris 47 Jane` using commas to separate each part.*"
   ]
  },
  {
   "cell_type": "code",
   "execution_count": null,
   "metadata": {
    "collapsed": false
   },
   "outputs": [],
   "source": [
    "print(42, 'Boris')"
   ]
  },
  {
   "cell_type": "markdown",
   "metadata": {},
   "source": [
    "If you've done it right, your output should look like this:\n",
    "\n",
    "42 Boris 47 Jane"
   ]
  },
  {
   "cell_type": "markdown",
   "metadata": {},
   "source": [
    "## Printing on a New Line\n",
    "If you want to have items printed on new lines, you can use the `\\n` special character.\n",
    "\n",
    "```python\n",
    "print(42, '\\nBoris')\n",
    "```\n",
    "\n",
    "*Change the following code to use `\\n` to get each item on a separate line*"
   ]
  },
  {
   "cell_type": "code",
   "execution_count": null,
   "metadata": {
    "collapsed": false
   },
   "outputs": [],
   "source": [
    "print(42, '\\nBoris', 47, 'Jane')"
   ]
  },
  {
   "cell_type": "markdown",
   "metadata": {},
   "source": [
    "If you've done it right, your output should look like this:\n",
    "\n",
    "42\n",
    "Boris\n",
    "47\n",
    "Jane"
   ]
  },
  {
   "cell_type": "markdown",
   "metadata": {},
   "source": [
    "# Basic User Input\n",
    "You the human will use your computing device by typing on the keyboard, moving and clicking the mouse, touching or pinching on a phone touchscreen, talking into a microphone etc. The easiest method for beginner programmers is the **keyboard**.\n",
    "\n",
    "Think about the last time you ordered anything online: the webpage asks for your name, you type it into the correct box, then your address etc. Your answers are stored in a **variable** (more on that later). Type in some text and press enter to see how it works:"
   ]
  },
  {
   "cell_type": "code",
   "execution_count": null,
   "metadata": {
    "collapsed": false
   },
   "outputs": [],
   "source": [
    "some_text = input('Please enter some text: ')\n",
    "print(some_text)"
   ]
  },
  {
   "cell_type": "markdown",
   "metadata": {},
   "source": [
    "*Try to run the following code then fix the error message*"
   ]
  },
  {
   "cell_type": "code",
   "execution_count": null,
   "metadata": {
    "collapsed": false
   },
   "outputs": [],
   "source": [
    "name = input('Please enter your name: ')\n",
    "print('It is a pleasure to meet you 'name,'.')"
   ]
  },
  {
   "cell_type": "markdown",
   "metadata": {},
   "source": [
    "If you've done it right, your output should look like this:\n",
    "\n",
    "Please enter your name: Katie  \n",
    "It is a pleasure to meet you Katie."
   ]
  },
  {
   "cell_type": "markdown",
   "metadata": {},
   "source": [
    "## Number or Text Input?"
   ]
  },
  {
   "cell_type": "markdown",
   "metadata": {},
   "source": [
    "Python easily handles situations when you want to input a number or text.\n",
    "\n",
    "This will accept any input at all and store it as text.\n",
    "```python\n",
    "name = input('What is your name? ')\n",
    "```\n",
    "\n",
    "This will accept whole numbers only (whole numbers are officially known as 'integers'). The program will crash if the user types in anything that is not a whole number.\n",
    "```python\n",
    "seats = int(input('How many seats do you want to book? '))\n",
    "```\n",
    "\n",
    "This will accept decimal numbers, which are officially called real or floating point numbers. It will still accept integer numbers too. The program will crash if the user types in anything that is not a number.\n",
    "```python\n",
    "height_metres = float(input('What is your height in metres? '))\n",
    "```\n",
    "\n",
    "*Type your answers to the following questions - try to get each input function to crash!*\n"
   ]
  },
  {
   "cell_type": "code",
   "execution_count": null,
   "metadata": {
    "collapsed": false
   },
   "outputs": [],
   "source": [
    "name = input('What is your name? ')\n",
    "seats = int(input('How many seats do you want to book? '))\n",
    "height_metres = float(input('What is your height in metres? '))\n",
    "print ('\\nCustomer Report:', name, 'booking', seats, 'seats.')"
   ]
  }
 ],
 "metadata": {
  "kernelspec": {
   "display_name": "Python 3",
   "language": "python",
   "name": "python3"
  },
  "language_info": {
   "codemirror_mode": {
    "name": "ipython",
    "version": 3
   },
   "file_extension": ".py",
   "mimetype": "text/x-python",
   "name": "python",
   "nbconvert_exporter": "python",
   "pygments_lexer": "ipython3",
   "version": "3.5.1"
  }
 },
 "nbformat": 4,
 "nbformat_minor": 0
}
